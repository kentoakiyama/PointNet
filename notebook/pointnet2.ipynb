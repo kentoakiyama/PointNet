{
 "cells": [
  {
   "cell_type": "code",
   "execution_count": null,
   "metadata": {},
   "outputs": [],
   "source": [
    "import numpy as np\n",
    "import tensorflow as tf\n",
    "import matplotlib.pyplot as plt"
   ]
  },
  {
   "cell_type": "markdown",
   "metadata": {},
   "source": [
    "## Fathest Point Sampling"
   ]
  },
  {
   "cell_type": "markdown",
   "metadata": {},
   "source": [
    "### Example"
   ]
  },
  {
   "cell_type": "code",
   "execution_count": 5,
   "metadata": {},
   "outputs": [
    {
     "data": {
      "image/png": "[encoded data removed]",
      "text/plain": [
       "<Figure size 640x480 with 1 Axes>"
      ]
     },
     "metadata": {},
     "output_type": "display_data"
    }
   ],
   "source": [
    "n_points = 20\n",
    "test_data = np.random.random([n_points, 2])\n",
    "\n",
    "plt.scatter(test_data[:, 0], test_data[:, 1])\n",
    "plt.show()"
   ]
  },
  {
   "cell_type": "code",
   "execution_count": 6,
   "metadata": {},
   "outputs": [
    {
     "name": "stdout",
     "output_type": "stream",
     "text": [
      "[19  0  7 17 11 18  4  9 10 16]\n"
     ]
    }
   ],
   "source": [
    "n_sample = 10\n",
    "\n",
    "point_ids = np.arange(n_points)\n",
    "first_point_id = np.random.randint(0, n_points)\n",
    "centroid = np.zeros([n_sample], dtype='int')\n",
    "\n",
    "centroid[0] = first_point_id\n",
    "\n",
    "for i in range(n_sample-1):\n",
    "    last_added_id = centroid[i]\n",
    "    point_ids = point_ids[np.where(point_ids != last_added_id)[0]]\n",
    "    last_added_point = test_data[last_added_id]\n",
    "    remain_points = test_data[point_ids]\n",
    "    distance = np.linalg.norm(remain_points - last_added_point, axis=1)\n",
    "    fathest_idx = np.argmax(distance)\n",
    "\n",
    "    centroid[i+1] = point_ids[fathest_idx]\n",
    "\n",
    "print(centroid)"
   ]
  },
  {
   "cell_type": "code",
   "execution_count": 7,
   "metadata": {},
   "outputs": [
    {
     "data": {
      "image/png": "[encoded data removed]",
      "text/plain": [
       "<Figure size 640x480 with 1 Axes>"
      ]
     },
     "metadata": {},
     "output_type": "display_data"
    }
   ],
   "source": [
    "plt.scatter(test_data[:, 0], test_data[:, 1])\n",
    "plt.scatter(test_data[centroid, 0], test_data[centroid, 1])\n",
    "plt.show()"
   ]
  },
  {
   "cell_type": "markdown",
   "metadata": {},
   "source": [
    "### Tensorflow implementation"
   ]
  },
  {
   "cell_type": "code",
   "execution_count": 78,
   "metadata": {},
   "outputs": [],
   "source": [
    "def fathest_point_sampling(xyz, n_points):\n",
    "    \"\"\"\n",
    "    xyz: tensor [batch size, num points, num dimension]\n",
    "    n_points: number of sampling points\n",
    "    \"\"\"\n",
    "    B, N, D = xyz.shape\n",
    "    centroid_ids = tf.random.uniform([B, 1], minval=0, maxval=N-1, dtype=tf.int64)\n",
    "    mask = tf.ones([B, N], dtype=tf.float32)\n",
    "    for i in range(n_points-1):\n",
    "        added_id = centroid_ids[:, i]\n",
    "        added_id_tf = [[b, added_id[b]] for b in range(B)]\n",
    "        added_point = tf.reshape(tf.gather_nd(xyz, added_id_tf), [B, 1, D])\n",
    "        dist = tf.math.reduce_euclidean_norm(xyz - added_point, axis=2)\n",
    "        dist = dist * mask\n",
    "        max_d_idx = tf.argmax(dist, axis=1)[..., tf.newaxis]\n",
    "\n",
    "        centroid_ids = tf.concat([centroid_ids, max_d_idx], axis=1)\n",
    "        mask = tf.math.minimum(dist * mask * 10e+10, mask)\n",
    "    return centroid_ids"
   ]
  },
  {
   "cell_type": "markdown",
   "metadata": {},
   "source": [
    "## Samplig and Grouping"
   ]
  },
  {
   "cell_type": "code",
   "execution_count": 79,
   "metadata": {},
   "outputs": [],
   "source": [
    "B, N, D = 2, 10, 3\n",
    "n_point = 3\n",
    "r = 1.1\n",
    "n_sample = 5\n",
    "\n",
    "test = tf.random.normal([B, N, D])"
   ]
  },
  {
   "cell_type": "code",
   "execution_count": 93,
   "metadata": {},
   "outputs": [],
   "source": [
    "def get_point_from_idx(xyz, idx):\n",
    "    \"\"\"\n",
    "    xyz: tensor [B, N, D]\n",
    "    idx: tensor [B, n_points] or [B, n_points, n_samples]\n",
    "\n",
    "    return:\n",
    "        [B, n_points, D] or [B, n_points, n_samples, D]\n",
    "    \"\"\"\n",
    "\n",
    "\n",
    "    if len(idx.shape) == 2:\n",
    "        B, n = idx.shape\n",
    "        b_idx = tf.tile(tf.range(B, dtype=tf.int64)[..., tf.newaxis], [1, n])[..., tf.newaxis] # [B, n, 1]\n",
    "        idx = idx[..., tf.newaxis]  # [B, n, 1]\n",
    "        idx = tf.concat([b_idx, idx], axis=2)\n",
    "    elif len(idx.shape) == 3:\n",
    "        B, np, ns = idx.shape\n",
    "        b_idx = tf.tile(tf.reshape(tf.range(B, dtype=tf.int32), [B, 1, 1]), [1, np, ns])[..., tf.newaxis] # [B, np, ns, 1]\n",
    "        idx = idx[..., tf.newaxis]  # [B, n, 1]\n",
    "        idx = tf.concat([b_idx, idx], axis=3)\n",
    "    return tf.gather_nd(xyz, idx)\n",
    "\n",
    "\n",
    "def query_ball_point(radius, n_samples, xyz, cent_xyz):\n",
    "    \"\"\"\n",
    "    radius:\n",
    "    n_samples:\n",
    "    xyz: [B, N, D]\n",
    "    cent_xyz: [B, n, D]\n",
    "\n",
    "    return:\n",
    "        [B, n_points, n_samples]\n",
    "    \"\"\"\n",
    "    B, N, D = xyz.shape\n",
    "    _, n, _ = cent_xyz.shape\n",
    "    xyz = tf.reshape(test, [B, 1, N, D])\n",
    "    cent_xyz = tf.reshape(cent_xyz, [B, n, 1, D])\n",
    "    dist = tf.math.reduce_euclidean_norm(tf.tile(xyz, [1, n, 1, 1]) - cent_xyz, axis=3)\n",
    "    r_mask = tf.ones([B, D, N]) * radius**2\n",
    "    dist = tf.math.minimum(dist, r_mask)\n",
    "    return tf.argsort(dist)[:, :, :n_samples]\n",
    "\n",
    "\n",
    "def sample_and_group(xyz, n_points, n_samples, radius):\n",
    "    \"\"\"\n",
    "    xyz: [B, N, D]\n",
    "    n_points:\n",
    "    n_sample:\n",
    "    radius:\n",
    "\n",
    "    return:\n",
    "        [B, n_points, n_samples, D]\n",
    "    \"\"\"\n",
    "    cent_idx = fathest_point_sampling(xyz, n_points)\n",
    "    cent_xyz = get_point_from_idx(xyz, cent_idx)\n",
    "\n",
    "    group_idx = query_ball_point(radius, n_samples, xyz, cent_xyz)\n",
    "    group_xyz = get_point_from_idx(xyz, group_idx)\n",
    "    return group_xyz"
   ]
  },
  {
   "cell_type": "markdown",
   "metadata": {},
   "source": [
    "## Sampling, Grouping, and PointNet Layer"
   ]
  },
  {
   "cell_type": "code",
   "execution_count": null,
   "metadata": {},
   "outputs": [],
   "source": [
    "class NonLinear(tf.keras.Model):\n",
    "    def __init__(self, num_out: int, activation: str='relu', shared: bool=True, batchnormalization: bool=True):\n",
    "        '''\n",
    "        num_out: number of output\n",
    "        shared: if shared is True, the 1d convolution is used\n",
    "        '''\n",
    "        super(NonLinear, self).__init__()\n",
    "        self.batchnormalization = batchnormalization\n",
    "        if shared:\n",
    "            self.dense = tf.keras.layers.Conv1D(filters=num_out, kernel_size=1, strides=1)\n",
    "        else:\n",
    "            self.dense = tf.keras.layers.Dense(num_out)\n",
    "        \n",
    "        if batchnormalization:\n",
    "            self.bn = tf.keras.layers.BatchNormalization()\n",
    "\n",
    "        self.activation = tf.keras.layers.Activation(activation)\n",
    "\n",
    "    def call(self, input):\n",
    "        out = self.dense(input)\n",
    "        if self.batchnormalization:\n",
    "            out = self.bn(out)\n",
    "        return self.activation(out)\n"
   ]
  },
  {
   "cell_type": "code",
   "execution_count": null,
   "metadata": {},
   "outputs": [],
   "source": [
    "class SetAbstraction(tf.keras.Model):\n",
    "    def __init__(self, n_points: int, n_samples: int, radius: float, mlps, activation: str='relu', batchnormalization: bool=True):\n",
    "        super(SetAbstraction, self).__init__()\n",
    "        self.n_points = n_points\n",
    "        self.n_samples = n_samples\n",
    "        self.radius = radius\n",
    "        self.mlp_layers = []\n",
    "        for mlp in mlps:\n",
    "            self.mlp_layers.append(NonLinear(mlp, activation, batchnormalization=batchnormalization))\n",
    "    \n",
    "    def call(self, inputs):\n",
    "        group_xyz = sample_and_group(inputs, self.n_points, self.n_samples, self.radius)\n",
    "\n",
    "        for mlp in self.mlp_layers:\n",
    "            group_xyz = mlp(group_xyz)\n",
    "        return group_xyz"
   ]
  },
  {
   "cell_type": "code",
   "execution_count": null,
   "metadata": {},
   "outputs": [
    {
     "ename": "InternalError",
     "evalue": "stream did not block host until done; was already in an error state",
     "output_type": "error",
     "traceback": [
      "\u001b[1;31m---------------------------------------------------------------------------\u001b[0m",
      "\u001b[1;31mInternalError\u001b[0m                             Traceback (most recent call last)",
      "Cell \u001b[1;32mIn [107], line 2\u001b[0m\n\u001b[0;32m      1\u001b[0m x \u001b[39m=\u001b[39m tf\u001b[39m.\u001b[39mrandom\u001b[39m.\u001b[39mnormal([\u001b[39m2\u001b[39m, \u001b[39m10\u001b[39m, \u001b[39m3\u001b[39m])\n\u001b[1;32m----> 2\u001b[0m \u001b[39mprint\u001b[39;49m(x)\n",
      "File \u001b[1;32mc:\\Users\\KENTO\\python\\pointnet\\lib\\site-packages\\tensorflow\\python\\framework\\ops.py:1095\u001b[0m, in \u001b[0;36m_EagerTensorBase.__str__\u001b[1;34m(self)\u001b[0m\n\u001b[0;32m   1093\u001b[0m \u001b[39mdef\u001b[39;00m \u001b[39m__str__\u001b[39m(\u001b[39mself\u001b[39m):\n\u001b[0;32m   1094\u001b[0m   \u001b[39mreturn\u001b[39;00m \u001b[39m\"\u001b[39m\u001b[39mtf.Tensor(\u001b[39m\u001b[39m%s\u001b[39;00m\u001b[39m, shape=\u001b[39m\u001b[39m%s\u001b[39;00m\u001b[39m, dtype=\u001b[39m\u001b[39m%s\u001b[39;00m\u001b[39m)\u001b[39m\u001b[39m\"\u001b[39m \u001b[39m%\u001b[39m (\n\u001b[1;32m-> 1095\u001b[0m       value_text(\u001b[39mself\u001b[39;49m, is_repr\u001b[39m=\u001b[39;49m\u001b[39mFalse\u001b[39;49;00m), \u001b[39mself\u001b[39m\u001b[39m.\u001b[39mshape, \u001b[39mself\u001b[39m\u001b[39m.\u001b[39mdtype\u001b[39m.\u001b[39mname)\n",
      "File \u001b[1;32mc:\\Users\\KENTO\\python\\pointnet\\lib\\site-packages\\tensorflow\\python\\framework\\ops.py:260\u001b[0m, in \u001b[0;36mvalue_text\u001b[1;34m(tensor, is_repr)\u001b[0m\n\u001b[0;32m    258\u001b[0m     text \u001b[39m=\u001b[39m \u001b[39m\"\u001b[39m\u001b[39mvalue=\u001b[39m\u001b[39m\"\u001b[39m \u001b[39m+\u001b[39m text\n\u001b[0;32m    259\u001b[0m \u001b[39melse\u001b[39;00m:\n\u001b[1;32m--> 260\u001b[0m   text \u001b[39m=\u001b[39m numpy_text(tensor, is_repr\u001b[39m=\u001b[39;49mis_repr)\n\u001b[0;32m    261\u001b[0m   \u001b[39mif\u001b[39;00m is_repr:\n\u001b[0;32m    262\u001b[0m     text \u001b[39m=\u001b[39m \u001b[39m\"\u001b[39m\u001b[39mnumpy=\u001b[39m\u001b[39m\"\u001b[39m \u001b[39m+\u001b[39m text\n",
      "File \u001b[1;32mc:\\Users\\KENTO\\python\\pointnet\\lib\\site-packages\\tensorflow\\python\\framework\\ops.py:231\u001b[0m, in \u001b[0;36mnumpy_text\u001b[1;34m(tensor, is_repr)\u001b[0m\n\u001b[0;32m    228\u001b[0m \u001b[39m\"\"\"Human readable representation of a tensor's numpy value.\"\"\"\u001b[39;00m\n\u001b[0;32m    229\u001b[0m \u001b[39mif\u001b[39;00m tensor\u001b[39m.\u001b[39mdtype\u001b[39m.\u001b[39mis_numpy_compatible:\n\u001b[0;32m    230\u001b[0m   \u001b[39m# pylint: disable=protected-access\u001b[39;00m\n\u001b[1;32m--> 231\u001b[0m   text \u001b[39m=\u001b[39m \u001b[39mrepr\u001b[39m(tensor\u001b[39m.\u001b[39m_numpy()) \u001b[39mif\u001b[39;00m is_repr \u001b[39melse\u001b[39;00m \u001b[39mstr\u001b[39m(tensor\u001b[39m.\u001b[39;49m_numpy())\n\u001b[0;32m    232\u001b[0m   \u001b[39m# pylint: enable=protected-access\u001b[39;00m\n\u001b[0;32m    233\u001b[0m \u001b[39melse\u001b[39;00m:\n\u001b[0;32m    234\u001b[0m   text \u001b[39m=\u001b[39m \u001b[39m\"\u001b[39m\u001b[39m<unprintable>\u001b[39m\u001b[39m\"\u001b[39m\n",
      "File \u001b[1;32mc:\\Users\\KENTO\\python\\pointnet\\lib\\site-packages\\tensorflow\\python\\framework\\ops.py:1125\u001b[0m, in \u001b[0;36m_EagerTensorBase._numpy\u001b[1;34m(self)\u001b[0m\n\u001b[0;32m   1123\u001b[0m   \u001b[39mreturn\u001b[39;00m \u001b[39mself\u001b[39m\u001b[39m.\u001b[39m_numpy_internal()\n\u001b[0;32m   1124\u001b[0m \u001b[39mexcept\u001b[39;00m core\u001b[39m.\u001b[39m_NotOkStatusException \u001b[39mas\u001b[39;00m e:  \u001b[39m# pylint: disable=protected-access\u001b[39;00m\n\u001b[1;32m-> 1125\u001b[0m   \u001b[39mraise\u001b[39;00m core\u001b[39m.\u001b[39m_status_to_exception(e) \u001b[39mfrom\u001b[39;00m \u001b[39mNone\u001b[39m\n",
      "\u001b[1;31mInternalError\u001b[0m: stream did not block host until done; was already in an error state"
     ]
    }
   ],
   "source": [
    "import tensorflow as tf\n",
    "x = tf.random.normal([2, 10, 3])\n",
    "print(x)"
   ]
  },
  {
   "cell_type": "code",
   "execution_count": null,
   "metadata": {},
   "outputs": [],
   "source": [
    "nonliear = NonLinear(10)"
   ]
  },
  {
   "cell_type": "code",
   "execution_count": null,
   "metadata": {},
   "outputs": [
    {
     "ename": "InternalError",
     "evalue": "Exception encountered when calling layer \"batch_normalization_1\" \"                 f\"(type BatchNormalization).\n\n{{function_node __wrapped__FusedBatchNormV3_device_/job:localhost/replica:0/task:0/device:GPU:0}} cuDNN launch failure : input shape ([2,10,30,10]) [Op:FusedBatchNormV3]\n\nCall arguments received by layer \"batch_normalization_1\" \"                 f\"(type BatchNormalization):\n  • inputs=tf.Tensor(shape=(2, 10, 30, 10), dtype=float32)\n  • training=None",
     "output_type": "error",
     "traceback": [
      "\u001b[1;31m---------------------------------------------------------------------------\u001b[0m",
      "\u001b[1;31mInternalError\u001b[0m                             Traceback (most recent call last)",
      "Cell \u001b[1;32mIn [102], line 1\u001b[0m\n\u001b[1;32m----> 1\u001b[0m nonliear(x)\n",
      "File \u001b[1;32mc:\\Users\\KENTO\\python\\pointnet\\lib\\site-packages\\keras\\utils\\traceback_utils.py:70\u001b[0m, in \u001b[0;36mfilter_traceback.<locals>.error_handler\u001b[1;34m(*args, **kwargs)\u001b[0m\n\u001b[0;32m     67\u001b[0m     filtered_tb \u001b[39m=\u001b[39m _process_traceback_frames(e\u001b[39m.\u001b[39m__traceback__)\n\u001b[0;32m     68\u001b[0m     \u001b[39m# To get the full stack trace, call:\u001b[39;00m\n\u001b[0;32m     69\u001b[0m     \u001b[39m# `tf.debugging.disable_traceback_filtering()`\u001b[39;00m\n\u001b[1;32m---> 70\u001b[0m     \u001b[39mraise\u001b[39;00m e\u001b[39m.\u001b[39mwith_traceback(filtered_tb) \u001b[39mfrom\u001b[39;00m \u001b[39mNone\u001b[39m\n\u001b[0;32m     71\u001b[0m \u001b[39mfinally\u001b[39;00m:\n\u001b[0;32m     72\u001b[0m     \u001b[39mdel\u001b[39;00m filtered_tb\n",
      "Cell \u001b[1;32mIn [94], line 22\u001b[0m, in \u001b[0;36mNonLinear.call\u001b[1;34m(self, input)\u001b[0m\n\u001b[0;32m     20\u001b[0m out \u001b[39m=\u001b[39m \u001b[39mself\u001b[39m\u001b[39m.\u001b[39mdense(\u001b[39minput\u001b[39m)\n\u001b[0;32m     21\u001b[0m \u001b[39mif\u001b[39;00m \u001b[39mself\u001b[39m\u001b[39m.\u001b[39mbatchnormalization:\n\u001b[1;32m---> 22\u001b[0m     out \u001b[39m=\u001b[39m \u001b[39mself\u001b[39;49m\u001b[39m.\u001b[39;49mbn(out)\n\u001b[0;32m     23\u001b[0m \u001b[39mreturn\u001b[39;00m \u001b[39mself\u001b[39m\u001b[39m.\u001b[39mactivation(out)\n",
      "\u001b[1;31mInternalError\u001b[0m: Exception encountered when calling layer \"batch_normalization_1\" \"                 f\"(type BatchNormalization).\n\n{{function_node __wrapped__FusedBatchNormV3_device_/job:localhost/replica:0/task:0/device:GPU:0}} cuDNN launch failure : input shape ([2,10,30,10]) [Op:FusedBatchNormV3]\n\nCall arguments received by layer \"batch_normalization_1\" \"                 f\"(type BatchNormalization):\n  • inputs=tf.Tensor(shape=(2, 10, 30, 10), dtype=float32)\n  • training=None"
     ]
    }
   ],
   "source": [
    "nonliear(x)"
   ]
  },
  {
   "cell_type": "code",
   "execution_count": null,
   "metadata": {},
   "outputs": [],
   "source": []
  }
 ],
 "metadata": {
  "kernelspec": {
   "display_name": "pointnet",
   "language": "python",
   "name": "pointnet"
  },
  "language_info": {
   "codemirror_mode": {
    "name": "ipython",
    "version": 3
   },
   "file_extension": ".py",
   "mimetype": "text/x-python",
   "name": "python",
   "nbconvert_exporter": "python",
   "pygments_lexer": "ipython3",
   "version": "3.10.5"
  },
  "orig_nbformat": 4,
  "vscode": {
   "interpreter": {
    "hash": "528b3a9393280cdb68e2809898566615dfc942796fdfeede7f4d5a6e5523ce23"
   }
  }
 },
 "nbformat": 4,
 "nbformat_minor": 2
}
